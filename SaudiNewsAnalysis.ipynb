{
 "cells": [
  {
   "cell_type": "markdown",
   "metadata": {},
   "source": [
    "#Saudi News Article Analysis"
   ]
  },
  {
   "cell_type": "code",
   "execution_count": 1,
   "metadata": {},
   "outputs": [
    {
     "name": "stdout",
     "output_type": "stream",
     "text": [
      "showing info https://raw.githubusercontent.com/nltk/nltk_data/gh-pages/index.xml\n"
     ]
    },
    {
     "data": {
      "text/plain": [
       "True"
      ]
     },
     "execution_count": 1,
     "metadata": {},
     "output_type": "execute_result"
    }
   ],
   "source": [
    "from numpy.core.numeric import NaN\n",
    "import pandas as pd\n",
    "from glob import glob\n",
    "import numpy as np \n",
    "import arabicstopwords.arabicstopwords as stp\n",
    "import re\n",
    "import nltk \n",
    "nltk.download()"
   ]
  },
  {
   "cell_type": "code",
   "execution_count": 2,
   "metadata": {},
   "outputs": [],
   "source": [
    "files_list = glob('news_*')\n",
    "\n",
    "dfs = [] \n",
    "for file in files_list:\n",
    "    data = pd.read_json(file) \n",
    "    dfs.append(data) \n"
   ]
  },
  {
   "cell_type": "code",
   "execution_count": 34,
   "metadata": {},
   "outputs": [],
   "source": [
    "ArNews_df = pd.concat(dfs, ignore_index=True)"
   ]
  },
  {
   "cell_type": "code",
   "execution_count": 14,
   "metadata": {},
   "outputs": [
    {
     "name": "stdout",
     "output_type": "stream",
     "text": [
      "<class 'pandas.core.frame.DataFrame'>\n",
      "Int64Index: 30676 entries, 0 to 31029\n",
      "Data columns (total 6 columns):\n",
      " #   Column          Non-Null Count  Dtype \n",
      "---  ------          --------------  ----- \n",
      " 0   source          30676 non-null  object\n",
      " 1   url             30676 non-null  object\n",
      " 2   date_extracted  30676 non-null  object\n",
      " 3   title           30666 non-null  object\n",
      " 4   author          26115 non-null  object\n",
      " 5   content         30676 non-null  object\n",
      "dtypes: object(6)\n",
      "memory usage: 1.6+ MB\n"
     ]
    }
   ],
   "source": [
    "#save the dataset \n",
    "ArNews_df.to_csv(\"/Users/AlaAlBinSaleh/Desktop/Capstone/data/ArNews_df.csv\")\n",
    "ArNews_df.info()"
   ]
  },
  {
   "cell_type": "code",
   "execution_count": 17,
   "metadata": {},
   "outputs": [
    {
     "data": {
      "text/html": [
       "<div>\n",
       "<style scoped>\n",
       "    .dataframe tbody tr th:only-of-type {\n",
       "        vertical-align: middle;\n",
       "    }\n",
       "\n",
       "    .dataframe tbody tr th {\n",
       "        vertical-align: top;\n",
       "    }\n",
       "\n",
       "    .dataframe thead th {\n",
       "        text-align: right;\n",
       "    }\n",
       "</style>\n",
       "<table border=\"1\" class=\"dataframe\">\n",
       "  <thead>\n",
       "    <tr style=\"text-align: right;\">\n",
       "      <th></th>\n",
       "      <th>source</th>\n",
       "      <th>url</th>\n",
       "      <th>date_extracted</th>\n",
       "      <th>title</th>\n",
       "      <th>author</th>\n",
       "      <th>content</th>\n",
       "    </tr>\n",
       "  </thead>\n",
       "  <tbody>\n",
       "    <tr>\n",
       "      <th>0</th>\n",
       "      <td>3alyoum</td>\n",
       "      <td>http://www.3alyoum.com/news/local/a/صور-فاضحة-...</td>\n",
       "      <td>2015-08-08 06:30:06</td>\n",
       "      <td>صور فاضحة مع فتيات في لوس أنجلوس تحيل 3 قياديي...</td>\n",
       "      <td></td>\n",
       "      <td>عين اليوم – متابعات\\nأحالت أمانة منطقة المدين...</td>\n",
       "    </tr>\n",
       "    <tr>\n",
       "      <th>1</th>\n",
       "      <td>3alyoum</td>\n",
       "      <td>http://www.3alyoum.com/news/golobal/a/قتيل-وجر...</td>\n",
       "      <td>2015-08-08 06:30:11</td>\n",
       "      <td>قتيل وجرحى بهجوم مسلح على حافلة إيرانية في تركيا</td>\n",
       "      <td></td>\n",
       "      <td>عين اليوم – متابعات\\nقتل شخص وجرح 3 آخرين بهج...</td>\n",
       "    </tr>\n",
       "    <tr>\n",
       "      <th>2</th>\n",
       "      <td>3alyoum</td>\n",
       "      <td>http://www.3alyoum.com/news/local/a/مدنى-دومة-...</td>\n",
       "      <td>2015-08-08 06:30:16</td>\n",
       "      <td>مدنى دومة الجندل يسيطر على حريق في مزارع بعين ...</td>\n",
       "      <td></td>\n",
       "      <td>رواف الكويكبي _ عين اليوم\\n قال المتحدث الرسم...</td>\n",
       "    </tr>\n",
       "    <tr>\n",
       "      <th>3</th>\n",
       "      <td>3alyoum</td>\n",
       "      <td>http://www.3alyoum.com/news/pol/a/مظاهرات-واسع...</td>\n",
       "      <td>2015-08-08 06:30:19</td>\n",
       "      <td>مظاهرات واسعة في العراق ضد الفساد</td>\n",
       "      <td></td>\n",
       "      <td>عين اليوم – بغداد\\nدعا المرجع الشيعي الأعلى ف...</td>\n",
       "    </tr>\n",
       "    <tr>\n",
       "      <th>4</th>\n",
       "      <td>3alyoum</td>\n",
       "      <td>http://www.3alyoum.com/news/local/a/جثمان-الشه...</td>\n",
       "      <td>2015-08-08 06:30:22</td>\n",
       "      <td>جثمان الشهيد الحارثي يصل الطائف والصلاة عليه ظ...</td>\n",
       "      <td></td>\n",
       "      <td>نايف السعدي – عين اليوم\\n قال الناطق الإعلامي...</td>\n",
       "    </tr>\n",
       "  </tbody>\n",
       "</table>\n",
       "</div>"
      ],
      "text/plain": [
       "    source                                                url  \\\n",
       "0  3alyoum  http://www.3alyoum.com/news/local/a/صور-فاضحة-...   \n",
       "1  3alyoum  http://www.3alyoum.com/news/golobal/a/قتيل-وجر...   \n",
       "2  3alyoum  http://www.3alyoum.com/news/local/a/مدنى-دومة-...   \n",
       "3  3alyoum  http://www.3alyoum.com/news/pol/a/مظاهرات-واسع...   \n",
       "4  3alyoum  http://www.3alyoum.com/news/local/a/جثمان-الشه...   \n",
       "\n",
       "        date_extracted                                              title  \\\n",
       "0  2015-08-08 06:30:06  صور فاضحة مع فتيات في لوس أنجلوس تحيل 3 قياديي...   \n",
       "1  2015-08-08 06:30:11   قتيل وجرحى بهجوم مسلح على حافلة إيرانية في تركيا   \n",
       "2  2015-08-08 06:30:16  مدنى دومة الجندل يسيطر على حريق في مزارع بعين ...   \n",
       "3  2015-08-08 06:30:19                  مظاهرات واسعة في العراق ضد الفساد   \n",
       "4  2015-08-08 06:30:22  جثمان الشهيد الحارثي يصل الطائف والصلاة عليه ظ...   \n",
       "\n",
       "  author                                            content  \n",
       "0          عين اليوم – متابعات\\nأحالت أمانة منطقة المدين...  \n",
       "1          عين اليوم – متابعات\\nقتل شخص وجرح 3 آخرين بهج...  \n",
       "2          رواف الكويكبي _ عين اليوم\\n قال المتحدث الرسم...  \n",
       "3          عين اليوم – بغداد\\nدعا المرجع الشيعي الأعلى ف...  \n",
       "4          نايف السعدي – عين اليوم\\n قال الناطق الإعلامي...  "
      ]
     },
     "execution_count": 17,
     "metadata": {},
     "output_type": "execute_result"
    }
   ],
   "source": [
    "ArNews_df.head()"
   ]
  },
  {
   "cell_type": "code",
   "execution_count": 35,
   "metadata": {},
   "outputs": [
    {
     "data": {
      "text/plain": [
       "False"
      ]
     },
     "execution_count": 35,
     "metadata": {},
     "output_type": "execute_result"
    }
   ],
   "source": [
    "ArNews_df.isnull().values.any() \n",
    "#it cannot detect missing values "
   ]
  },
  {
   "cell_type": "code",
   "execution_count": 36,
   "metadata": {},
   "outputs": [],
   "source": [
    "#replacing blanks \" \" with nan: \n",
    "ArNews_df = ArNews_df.replace(r'^\\s*$', np.nan, regex=True)"
   ]
  },
  {
   "cell_type": "code",
   "execution_count": 37,
   "metadata": {},
   "outputs": [
    {
     "data": {
      "text/plain": [
       "source               0\n",
       "url                  0\n",
       "date_extracted       0\n",
       "title               67\n",
       "author            4736\n",
       "content            354\n",
       "dtype: int64"
      ]
     },
     "execution_count": 37,
     "metadata": {},
     "output_type": "execute_result"
    }
   ],
   "source": [
    "#check missing values again\n",
    "ArNews_df.isnull().sum()"
   ]
  },
  {
   "cell_type": "code",
   "execution_count": 38,
   "metadata": {},
   "outputs": [
    {
     "data": {
      "text/plain": [
       "False"
      ]
     },
     "execution_count": 38,
     "metadata": {},
     "output_type": "execute_result"
    }
   ],
   "source": [
    "# drop NaN Content \n",
    "ArNews_df = ArNews_df[ArNews_df.content.isnull() == False]\n",
    "ArNews_df.content.isnull().any() #false "
   ]
  },
  {
   "cell_type": "code",
   "execution_count": 39,
   "metadata": {},
   "outputs": [],
   "source": [
    "#data cleaning  \n",
    "ArNews_df['content'] = ArNews_df.content.str.strip() \n",
    "ArNews_df['content'] = ArNews_df.content.str.replace(\"\\n\",\" \")\n",
    "ArNews_df['content'] = ArNews_df.content.str.replace(\"–\",\"\")\n",
    "ArNews_df['content'] = ArNews_df.content.str.replace(\"_ \",\"\")\n",
    "ArNews_df['content'] = ArNews_df.content.str.replace(\":\",\"\")"
   ]
  },
  {
   "cell_type": "code",
   "execution_count": 41,
   "metadata": {},
   "outputs": [
    {
     "data": {
      "text/plain": [
       "0        عين اليوم  متابعات أحالت أمانة منطقة المدينة ا...\n",
       "1        عين اليوم  متابعات قتل شخص وجرح 3 آخرين بهجوم ...\n",
       "2        رواف الكويكبي عين اليوم  قال المتحدث الرسمي با...\n",
       "3        عين اليوم  بغداد دعا المرجع الشيعي الأعلى في ا...\n",
       "4        نايف السعدي  عين اليوم  قال الناطق الإعلامي بش...\n",
       "                               ...                        \n",
       "31025    سبق- جازان قلَّد قائد قوة أمن المنشآت العميد ب...\n",
       "31026    سبق- الطائف قلَّد مدير شرطة محافظة الطائف العم...\n",
       "31027    سبق- الطائف تماثل رئيس الرقباء بقاعدة الملك فه...\n",
       "31028    سبق - بيشة احتفل طراد سعيد الأكلبي بزواجه أول ...\n",
       "31029    فهد العتيبي- سبق- الطائف دشنت لجنة التنمية الا...\n",
       "Name: content, Length: 30676, dtype: object"
      ]
     },
     "execution_count": 41,
     "metadata": {},
     "output_type": "execute_result"
    }
   ],
   "source": [
    "ArNews_df['content']"
   ]
  },
  {
   "cell_type": "code",
   "execution_count": 51,
   "metadata": {},
   "outputs": [
    {
     "data": {
      "text/plain": [
       "0        عين اليوم  متابعات أحالت أمانة منطقة المدينة ا...\n",
       "1        عين اليوم  متابعات قتل شخص وجرح 3 آخرين بهجوم ...\n",
       "2        رواف الكويكبي عين اليوم  قال المتحدث الرسمي با...\n",
       "3        عين اليوم  بغداد دعا المرجع الشيعي الأعلى في ا...\n",
       "4        نايف السعدي  عين اليوم  قال الناطق الإعلامي بش...\n",
       "                               ...                        \n",
       "31025      جازان قلَّد قائد قوة أمن المنشآت العميد بحري...\n",
       "31026      الطائف قلَّد مدير شرطة محافظة الطائف العميد ...\n",
       "31027      الطائف تماثل رئيس الرقباء بقاعدة الملك فهد ا...\n",
       "31028    سبق - بيشة احتفل طراد سعيد الأكلبي بزواجه أول ...\n",
       "31029    فهد العتيبي-   الطائف دشنت لجنة التنمية الاجتم...\n",
       "Name: content, Length: 30676, dtype: object"
      ]
     },
     "execution_count": 51,
     "metadata": {},
     "output_type": "execute_result"
    }
   ],
   "source": [
    "ArNews_df['content'] = ArNews_df.content.str.replace(\"سبق-\",\" \")\n",
    "#ArNews_df['content']"
   ]
  },
  {
   "cell_type": "code",
   "execution_count": 52,
   "metadata": {},
   "outputs": [
    {
     "data": {
      "text/plain": [
       "0        عين اليوم  متابعات أحالت أمانة منطقة المدينة ا...\n",
       "1        عين اليوم  متابعات قتل شخص وجرح 3 آخرين بهجوم ...\n",
       "2        رواف الكويكبي عين اليوم  قال المتحدث الرسمي با...\n",
       "3        عين اليوم  بغداد دعا المرجع الشيعي الأعلى في ا...\n",
       "4        نايف السعدي  عين اليوم  قال الناطق الإعلامي بش...\n",
       "                               ...                        \n",
       "31025      جازان قلَّد قائد قوة أمن المنشآت العميد بحري...\n",
       "31026      الطائف قلَّد مدير شرطة محافظة الطائف العميد ...\n",
       "31027      الطائف تماثل رئيس الرقباء بقاعدة الملك فهد ا...\n",
       "31028      بيشة احتفل طراد سعيد الأكلبي بزواجه أول أمس ...\n",
       "31029    فهد العتيبي-   الطائف دشنت لجنة التنمية الاجتم...\n",
       "Name: content, Length: 30676, dtype: object"
      ]
     },
     "execution_count": 52,
     "metadata": {},
     "output_type": "execute_result"
    }
   ],
   "source": [
    "ArNews_df['content'] = ArNews_df.content.str.replace(\"سبق -\",\" \")\n",
    "#ArNews_df['content']"
   ]
  },
  {
   "cell_type": "code",
   "execution_count": 27,
   "metadata": {},
   "outputs": [],
   "source": [
    "#sentence segmentation \n",
    "ArNews_df['tokenized_sent'] = ArNews_df.content.str.split(\".\")"
   ]
  },
  {
   "cell_type": "code",
   "execution_count": null,
   "metadata": {},
   "outputs": [],
   "source": [
    "#tokenization by words \n",
    "ArNews_df['tokenized_words'] =  ArNews_df[\"content\"].apply(nltk.word_tokenize)"
   ]
  }
 ],
 "metadata": {
  "interpreter": {
   "hash": "aee8b7b246df8f9039afb4144a1f6fd8d2ca17a180786b69acc140d282b71a49"
  },
  "kernelspec": {
   "display_name": "Python 3.9.7 64-bit",
   "name": "python3"
  },
  "language_info": {
   "codemirror_mode": {
    "name": "ipython",
    "version": 3
   },
   "file_extension": ".py",
   "mimetype": "text/x-python",
   "name": "python",
   "nbconvert_exporter": "python",
   "pygments_lexer": "ipython3",
   "version": "3.9.7"
  },
  "orig_nbformat": 4
 },
 "nbformat": 4,
 "nbformat_minor": 2
}
