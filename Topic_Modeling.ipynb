{
 "cells": [
  {
   "cell_type": "markdown",
   "metadata": {},
   "source": [
    "#Topic Modeling "
   ]
  },
  {
   "cell_type": "code",
   "execution_count": 2,
   "metadata": {},
   "outputs": [],
   "source": [
    "import pandas as pd \n",
    "import numpy as np\n",
    "from gensim.models import LdaMulticore, ldamodel\n",
    "import gensim\n",
    "import matplotlib.pyplot as plt\n",
    "import re"
   ]
  },
  {
   "cell_type": "markdown",
   "metadata": {},
   "source": [
    "##Loading Dataset: "
   ]
  },
  {
   "cell_type": "code",
   "execution_count": 3,
   "metadata": {},
   "outputs": [],
   "source": [
    "\n",
    "#load the cleaned and preprocessed dataset \n",
    "ArNews_df_update = pd.read_csv(\"/Users/AlaAlBinSaleh/Desktop/Desktop/Capstone/ArNews_df_Cleaned.csv\", index_col=[0])"
   ]
  },
  {
   "cell_type": "markdown",
   "metadata": {},
   "source": [
    "#Topic Modeling"
   ]
  },
  {
   "cell_type": "markdown",
   "metadata": {},
   "source": [
    "##Text Transformation:"
   ]
  },
  {
   "cell_type": "code",
   "execution_count": 4,
   "metadata": {},
   "outputs": [],
   "source": [
    "corpus=[]\n",
    "word=[]\n",
    "\n",
    "for i in range(len(ArNews_df_update['Detokenize'])):\n",
    "        word =ArNews_df_update['Detokenize'].iloc[i]\n",
    "        corpus.append(word)"
   ]
  },
  {
   "cell_type": "code",
   "execution_count": 5,
   "metadata": {},
   "outputs": [],
   "source": [
    "texts = [[word for word in str(document).lower().split()]for document in corpus]"
   ]
  },
  {
   "cell_type": "code",
   "execution_count": 7,
   "metadata": {},
   "outputs": [
    {
     "name": "stdout",
     "output_type": "stream",
     "text": [
      "Dictionary(45199 unique tokens: ['أضف', 'ابن', 'اخر', 'اذ', 'اضة']...)\n"
     ]
    }
   ],
   "source": [
    "#create a dictionary \n",
    "from gensim import corpora\n",
    "dictionary = corpora.Dictionary(texts)\n",
    "print(dictionary)"
   ]
  },
  {
   "cell_type": "code",
   "execution_count": 16,
   "metadata": {},
   "outputs": [],
   "source": [
    "#bag of words \n",
    "corpus = [dictionary.doc2bow(text) for text in texts]\n",
    "#corpus"
   ]
  },
  {
   "cell_type": "code",
   "execution_count": 9,
   "metadata": {},
   "outputs": [],
   "source": [
    "#create the LDA model \n",
    "#set the number of topics to 10:\n",
    "lda = gensim.models.LdaModel(corpus, id2word=dictionary, num_topics=10)"
   ]
  },
  {
   "cell_type": "code",
   "execution_count": 10,
   "metadata": {},
   "outputs": [
    {
     "name": "stdout",
     "output_type": "stream",
     "text": [
      "Topic: 0 \n",
      "Words: 0.015*\"قتل\" + 0.012*\"نظم\" + 0.011*\"يمن\" + 0.010*\"قوت\" + 0.010*\"عمل\" + 0.010*\"حوث\" + 0.009*\"سور\" + 0.009*\"نطق\" + 0.008*\"عسكر\" + 0.008*\"حكم\"\n",
      "Topic: 1 \n",
      "Words: 0.013*\"وزر\" + 0.012*\"رئس\" + 0.011*\"دول\" + 0.010*\"سعد\" + 0.010*\"شرك\" + 0.010*\"طقة\" + 0.009*\"جلس\" + 0.009*\"عمل\" + 0.009*\"جدد\" + 0.008*\"ملك\"\n",
      "Topic: 2 \n",
      "Words: 0.025*\"جمع\" + 0.024*\"عمل\" + 0.009*\"درس\" + 0.009*\"نظم\" + 0.008*\"طلب\" + 0.008*\"شكل\" + 0.008*\"حقق\" + 0.007*\"كتب\" + 0.007*\"حكم\" + 0.006*\"ثقف\"\n",
      "Topic: 3 \n",
      "Words: 0.019*\"دول\" + 0.016*\"اير\" + 0.014*\"امر\" + 0.012*\"تفق\" + 0.011*\"سيس\" + 0.011*\"رئس\" + 0.009*\"عرق\" + 0.009*\"تحد\" + 0.008*\"حكم\" + 0.007*\"جمع\"\n",
      "Topic: 4 \n",
      "Words: 0.029*\"لعب\" + 0.027*\"فرق\" + 0.019*\"ندي\" + 0.012*\"درب\" + 0.012*\"قدم\" + 0.010*\"تحد\" + 0.009*\"سعد\" + 0.009*\"وسم\" + 0.009*\"دور\" + 0.008*\"بطل\"\n",
      "Topic: 5 \n",
      "Words: 0.016*\"عمل\" + 0.013*\"نطق\" + 0.010*\"جمع\" + 0.009*\"خدم\" + 0.009*\"وزر\" + 0.009*\"ركز\" + 0.007*\"قدم\" + 0.007*\"طلب\" + 0.007*\"خلل\" + 0.007*\"حفظ\"\n",
      "Topic: 6 \n",
      "Words: 0.019*\"شرك\" + 0.016*\"سعر\" + 0.015*\"نسب\" + 0.014*\"رفع\" + 0.013*\"سوق\" + 0.012*\"سهم\" + 0.011*\"ائة\" + 0.011*\"ريل\" + 0.010*\"بلغ\" + 0.010*\"عمل\"\n",
      "Topic: 7 \n",
      "Words: 0.017*\"سعد\" + 0.014*\"جمع\" + 0.013*\"نطق\" + 0.012*\"ملك\" + 0.011*\"امر\" + 0.011*\"عرض\" + 0.011*\"سيح\" + 0.011*\"قدم\" + 0.010*\"حمد\" + 0.010*\"رئس\"\n",
      "Topic: 8 \n",
      "Words: 0.023*\"سلم\" + 0.022*\"الل\" + 0.013*\"امن\" + 0.013*\"وطن\" + 0.011*\"جمع\" + 0.010*\"رهب\" + 0.010*\"سعد\" + 0.010*\"سجد\" + 0.009*\"حمد\" + 0.008*\"حرم\"\n",
      "Topic: 9 \n",
      "Words: 0.009*\"كثر\" + 0.007*\"حدث\" + 0.005*\"شخص\" + 0.005*\"كتب\" + 0.005*\"شعر\" + 0.005*\"عرف\" + 0.005*\"عمل\" + 0.005*\"جمع\" + 0.005*\"كبر\" + 0.005*\"عبر\"\n"
     ]
    }
   ],
   "source": [
    "#print topics and the words associated with each topic \n",
    "for idx, topic in lda.print_topics(-1):\n",
    "    print('Topic: {} \\nWords: {}'.format(idx, topic))"
   ]
  },
  {
   "cell_type": "markdown",
   "metadata": {},
   "source": [
    "##Evaluate The model: "
   ]
  },
  {
   "cell_type": "code",
   "execution_count": 11,
   "metadata": {},
   "outputs": [],
   "source": [
    "from gensim.models import CoherenceModel\n",
    "coherence_model_lda = CoherenceModel(model=lda, corpus=corpus,texts=texts ,dictionary=dictionary, coherence='c_v')\n",
    "coherence_lda = coherence_model_lda.get_coherence()"
   ]
  },
  {
   "cell_type": "code",
   "execution_count": 12,
   "metadata": {},
   "outputs": [
    {
     "data": {
      "text/plain": [
       "0.41254697567048"
      ]
     },
     "execution_count": 12,
     "metadata": {},
     "output_type": "execute_result"
    }
   ],
   "source": [
    "coherence_lda"
   ]
  },
  {
   "cell_type": "markdown",
   "metadata": {},
   "source": [
    "##Find Optimal Topics Number:"
   ]
  },
  {
   "cell_type": "code",
   "execution_count": 13,
   "metadata": {},
   "outputs": [],
   "source": [
    "def coherence_score(dictionary, corpus, texts, limit, start=2, step=3):\n",
    "    coherence_values = []\n",
    "    model_list = []\n",
    "    for num_topics in range(start, limit, step):\n",
    "        model = gensim.models.LdaModel(corpus, id2word=dictionary, num_topics=num_topics)\n",
    "        model_list.append(model)\n",
    "        \n",
    "        coherencemodel = CoherenceModel(model=model, corpus=corpus, texts=texts, dictionary=dictionary, coherence='c_v')\n",
    "        coherence_values.append(coherencemodel.get_coherence())\n",
    "\n",
    "    return model_list, coherence_values"
   ]
  },
  {
   "cell_type": "code",
   "execution_count": 14,
   "metadata": {},
   "outputs": [],
   "source": [
    "model_list, coherence_values = coherence_score(dictionary=dictionary, corpus=corpus, texts=texts, start=2, limit=50, step=5)"
   ]
  },
  {
   "cell_type": "code",
   "execution_count": 15,
   "metadata": {},
   "outputs": [
    {
     "name": "stdout",
     "output_type": "stream",
     "text": [
      "topic number: 2  , coherence score 0.33077148549160174\n",
      "topic number: 7  , coherence score 0.38044769064363876\n",
      "topic number: 12  , coherence score 0.4043837697586528\n",
      "topic number: 17  , coherence score 0.42527727035960905\n",
      "topic number: 22  , coherence score 0.4332308294832574\n",
      "topic number: 27  , coherence score 0.43453475929000096\n",
      "topic number: 32  , coherence score 0.4351698422263201\n",
      "topic number: 37  , coherence score 0.43725011406527564\n",
      "topic number: 42  , coherence score 0.43555811344936196\n",
      "topic number: 47  , coherence score 0.4230625779383904\n"
     ]
    }
   ],
   "source": [
    "x = range(2, 50, 5)\n",
    "for num, cv in zip(x, coherence_values):\n",
    "    print(\"topic number:\", num, \" , coherence score\", cv)"
   ]
  },
  {
   "cell_type": "markdown",
   "metadata": {},
   "source": [
    "###plot the optimal Topic number "
   ]
  },
  {
   "cell_type": "code",
   "execution_count": 65,
   "metadata": {},
   "outputs": [
    {
     "data": {
      "text/plain": [
       "<matplotlib.lines.Line2D at 0x7fa711dc9cd0>"
      ]
     },
     "execution_count": 65,
     "metadata": {},
     "output_type": "execute_result"
    },
    {
     "data": {
      "image/png": "[encoded data removed]",
      "text/plain": [
       "<Figure size 432x288 with 1 Axes>"
      ]
     },
     "metadata": {
      "needs_background": "light"
     },
     "output_type": "display_data"
    }
   ],
   "source": [
    "plt.plot(x, coherence_values)\n",
    "plt.xlabel(\"Topics number\")\n",
    "plt.ylabel(\"Coherence Ecore\")\n",
    "plt.title(\"the Optimal Topic number Based on Coherence Score\")\n",
    "plt.annotate(\"Max Score\", xy=(37, 0.43725),\n",
    "            arrowprops=dict(facecolor='#F3F085', shrink=1))\n",
    "plt.axvline(x=37, color='#EA4141', linestyle='--')"
   ]
  }
 ],
 "metadata": {
  "interpreter": {
   "hash": "aee8b7b246df8f9039afb4144a1f6fd8d2ca17a180786b69acc140d282b71a49"
  },
  "kernelspec": {
   "display_name": "Python 3.9.7 64-bit",
   "language": "python",
   "name": "python3"
  },
  "language_info": {
   "codemirror_mode": {
    "name": "ipython",
    "version": 3
   },
   "file_extension": ".py",
   "mimetype": "text/x-python",
   "name": "python",
   "nbconvert_exporter": "python",
   "pygments_lexer": "ipython3",
   "version": "3.9.7"
  },
  "orig_nbformat": 4
 },
 "nbformat": 4,
 "nbformat_minor": 2
}
