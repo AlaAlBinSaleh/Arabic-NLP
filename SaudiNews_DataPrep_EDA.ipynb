{
 "cells": [
  {
   "cell_type": "code",
   "execution_count": 3,
   "metadata": {},
   "outputs": [],
   "source": [
    "# Saudi News Articles Analysis and Classification "
   ]
  },
  {
   "cell_type": "code",
   "execution_count": 4,
   "metadata": {},
   "outputs": [],
   "source": [
    "import pandas as pd\n",
    "import seaborn as sns\n",
    "import matplotlib as plt\n",
    "import matplotlib.pyplot as plt\n",
    "from plotnine import *\n",
    "from glob import glob\n",
    "import numpy as np \n",
    "import arabicstopwords.arabicstopwords as stp\n",
    "import missingno as msno\n",
    "import re\n",
    "from camel_tools.sentiment import SentimentAnalyzer\n",
    "import nltk \n",
    "from nltk.stem.snowball import SnowballStemmer\n",
    "import unicodedata\n",
    "from textblob_ar import TextBlob as tb\n",
    "from nltk.tokenize.treebank import TreebankWordDetokenizer as Detok\n",
    "from collections import Counter\n"
   ]
  },
  {
   "cell_type": "code",
   "execution_count": 5,
   "metadata": {},
   "outputs": [
    {
     "name": "stderr",
     "output_type": "stream",
     "text": [
      "[nltk_data] Downloading package stopwords to\n",
      "[nltk_data]     /Users/AlaAlBinSaleh/nltk_data...\n",
      "[nltk_data]   Package stopwords is already up-to-date!\n"
     ]
    }
   ],
   "source": [
    "#Download Arabic stopwords from NLTK \n",
    "#nltk.download()\n",
    "nltk.download(\"stopwords\")\n",
    "arabic_stopwords_list = set(nltk.corpus.stopwords.words(\"arabic\"))\n",
    "stemmer = SnowballStemmer(\"arabic\")\n",
    "sentiment = SentimentAnalyzer.pretrained()\n",
    "detokenizer = Detok()"
   ]
  },
  {
   "cell_type": "code",
   "execution_count": null,
   "metadata": {},
   "outputs": [],
   "source": [
    "arabic_stopwords_list.update([\"فى\",\"في\",\"كل\",\"لم\",\"لن\",\"له\"\"من\",\"هو\",\"هي\",\"قوة\",\"كما\",\"لها\",'منذ',\"وقد\",'ولا',\n",
    "\"نفسه\",\"لقاء\",\"مقابل\",\"هناك\",\"وقال\",\"وكان\",\"نهاية\",\"وقالت\",\"وكانت\",\"للامم\",\"فيه\",\n",
    "\"كلم\",\"لكن\",\"وفي\",\"وقف\",\"ولم\",\"ومن\",\"وهو\",\"وهي\",\"يوم\",\"فيها\",\"منها\",\"مليار\",\n",
    "\"لوكالة\",\"يكون\",\"يمكن\",\"مليون\",\"حيث\",\"اكد\",\"الا\",\"اما\",\"امس\",\"السابق\",\"التى\",\"التي\",\n",
    "\"اكثر\",\"ايار\",\"ايضا\",\"ثلاثة\",\"الذاتي\",\"الاخيرة\",\"الثاني\",\"الثانية\",\"الذى\",\"الذي\",\"الان\",\n",
    "\"امام\",\"ايام\",\"خلال\",\"حوالى\",\"الذين\",\"الاول\",\"الاولى\",\"بين\",\"ذلك\",\"دون\",\"حول\",\"حين\",\"الف\",\n",
    "\"الى\",\"انه\",\"اول\",\"ضمن\",\"انها\",\"جميع\",\"الماضي\",\"الوقت\",\"المقبل\",\"اليوم\",\"ـ\",\"ف\",\n",
    "\"و\",\"و6\",\"قد\",\"لا\",\"ما\",\"مع\",\"مساء\",\"هذا\",\"واحد\",\"واضاف\",\"واضافت\",\"فان\",\"قبل\",\"قال\",\"كان\",\n",
    "\"لدى\",\"نحو\",\"هذه\",\"وان\",\"واكد\",\"كانت\",\"واوضح\",\"مايو\",\"ب\",\"ا\",\"أ\",\"،\",\"عشر\",\"عدد\",\"عدة\",\"عشرة\",\n",
    "\"عدم\",\"عام\",\"عاما\",\"عن\",\"عند\",\"عندما\",\"على\",\"عليه\",\"عليها\",\"زيارة\",\"سنة\",\"سنوات\",\"تم\",\"ضد\",\"بعد\",\n",
    "\"بعض\",\"اعادة\",\"اعلنت\",\"بسبب\",\"حتى\",\"اذا\",\"احد\",\"اثر\",\"برس\",\"باسم\",\"غدا\",\"شخصا\",\"صباح\",\"اطار\",\n",
    "\"اربعة\",\"اخرى\",\"بان\",\"اجل\",\"غير\",\"بشكل\",\"حاليا\",\"بن\",\"به\",\"ثم\",\"اف\",\"ان\",\"او\",\"اي\",\"بها\",\"صفر\"\n",
    "\"أنه\",\"بأن\"])"
   ]
  },
  {
   "cell_type": "code",
   "execution_count": 6,
   "metadata": {},
   "outputs": [],
   "source": [
    "files_list = glob('news_*')\n",
    "\n",
    "dfs = [] \n",
    "for file in files_list:\n",
    "    data = pd.read_json(file) \n",
    "    dfs.append(data) \n",
    "\n",
    "ArNews_df = pd.concat(dfs, ignore_index=True)"
   ]
  },
  {
   "cell_type": "code",
   "execution_count": 7,
   "metadata": {},
   "outputs": [
    {
     "data": {
      "text/html": [
       "<div>\n",
       "<style scoped>\n",
       "    .dataframe tbody tr th:only-of-type {\n",
       "        vertical-align: middle;\n",
       "    }\n",
       "\n",
       "    .dataframe tbody tr th {\n",
       "        vertical-align: top;\n",
       "    }\n",
       "\n",
       "    .dataframe thead th {\n",
       "        text-align: right;\n",
       "    }\n",
       "</style>\n",
       "<table border=\"1\" class=\"dataframe\">\n",
       "  <thead>\n",
       "    <tr style=\"text-align: right;\">\n",
       "      <th></th>\n",
       "      <th>source</th>\n",
       "      <th>url</th>\n",
       "      <th>date_extracted</th>\n",
       "      <th>title</th>\n",
       "      <th>author</th>\n",
       "      <th>content</th>\n",
       "    </tr>\n",
       "  </thead>\n",
       "  <tbody>\n",
       "    <tr>\n",
       "      <th>0</th>\n",
       "      <td>3alyoum</td>\n",
       "      <td>http://www.3alyoum.com/news/local/a/صور-فاضحة-...</td>\n",
       "      <td>2015-08-08 06:30:06</td>\n",
       "      <td>صور فاضحة مع فتيات في لوس أنجلوس تحيل 3 قياديي...</td>\n",
       "      <td></td>\n",
       "      <td>عين اليوم – متابعات\\nأحالت أمانة منطقة المدين...</td>\n",
       "    </tr>\n",
       "    <tr>\n",
       "      <th>1</th>\n",
       "      <td>3alyoum</td>\n",
       "      <td>http://www.3alyoum.com/news/golobal/a/قتيل-وجر...</td>\n",
       "      <td>2015-08-08 06:30:11</td>\n",
       "      <td>قتيل وجرحى بهجوم مسلح على حافلة إيرانية في تركيا</td>\n",
       "      <td></td>\n",
       "      <td>عين اليوم – متابعات\\nقتل شخص وجرح 3 آخرين بهج...</td>\n",
       "    </tr>\n",
       "    <tr>\n",
       "      <th>2</th>\n",
       "      <td>3alyoum</td>\n",
       "      <td>http://www.3alyoum.com/news/local/a/مدنى-دومة-...</td>\n",
       "      <td>2015-08-08 06:30:16</td>\n",
       "      <td>مدنى دومة الجندل يسيطر على حريق في مزارع بعين ...</td>\n",
       "      <td></td>\n",
       "      <td>رواف الكويكبي _ عين اليوم\\n قال المتحدث الرسم...</td>\n",
       "    </tr>\n",
       "    <tr>\n",
       "      <th>3</th>\n",
       "      <td>3alyoum</td>\n",
       "      <td>http://www.3alyoum.com/news/pol/a/مظاهرات-واسع...</td>\n",
       "      <td>2015-08-08 06:30:19</td>\n",
       "      <td>مظاهرات واسعة في العراق ضد الفساد</td>\n",
       "      <td></td>\n",
       "      <td>عين اليوم – بغداد\\nدعا المرجع الشيعي الأعلى ف...</td>\n",
       "    </tr>\n",
       "    <tr>\n",
       "      <th>4</th>\n",
       "      <td>3alyoum</td>\n",
       "      <td>http://www.3alyoum.com/news/local/a/جثمان-الشه...</td>\n",
       "      <td>2015-08-08 06:30:22</td>\n",
       "      <td>جثمان الشهيد الحارثي يصل الطائف والصلاة عليه ظ...</td>\n",
       "      <td></td>\n",
       "      <td>نايف السعدي – عين اليوم\\n قال الناطق الإعلامي...</td>\n",
       "    </tr>\n",
       "  </tbody>\n",
       "</table>\n",
       "</div>"
      ],
      "text/plain": [
       "    source                                                url  \\\n",
       "0  3alyoum  http://www.3alyoum.com/news/local/a/صور-فاضحة-...   \n",
       "1  3alyoum  http://www.3alyoum.com/news/golobal/a/قتيل-وجر...   \n",
       "2  3alyoum  http://www.3alyoum.com/news/local/a/مدنى-دومة-...   \n",
       "3  3alyoum  http://www.3alyoum.com/news/pol/a/مظاهرات-واسع...   \n",
       "4  3alyoum  http://www.3alyoum.com/news/local/a/جثمان-الشه...   \n",
       "\n",
       "        date_extracted                                              title  \\\n",
       "0  2015-08-08 06:30:06  صور فاضحة مع فتيات في لوس أنجلوس تحيل 3 قياديي...   \n",
       "1  2015-08-08 06:30:11   قتيل وجرحى بهجوم مسلح على حافلة إيرانية في تركيا   \n",
       "2  2015-08-08 06:30:16  مدنى دومة الجندل يسيطر على حريق في مزارع بعين ...   \n",
       "3  2015-08-08 06:30:19                  مظاهرات واسعة في العراق ضد الفساد   \n",
       "4  2015-08-08 06:30:22  جثمان الشهيد الحارثي يصل الطائف والصلاة عليه ظ...   \n",
       "\n",
       "  author                                            content  \n",
       "0          عين اليوم – متابعات\\nأحالت أمانة منطقة المدين...  \n",
       "1          عين اليوم – متابعات\\nقتل شخص وجرح 3 آخرين بهج...  \n",
       "2          رواف الكويكبي _ عين اليوم\\n قال المتحدث الرسم...  \n",
       "3          عين اليوم – بغداد\\nدعا المرجع الشيعي الأعلى ف...  \n",
       "4          نايف السعدي – عين اليوم\\n قال الناطق الإعلامي...  "
      ]
     },
     "execution_count": 7,
     "metadata": {},
     "output_type": "execute_result"
    }
   ],
   "source": [
    "ArNews_df.head()"
   ]
  },
  {
   "cell_type": "code",
   "execution_count": 8,
   "metadata": {},
   "outputs": [
    {
     "data": {
      "text/plain": [
       "False"
      ]
     },
     "execution_count": 8,
     "metadata": {},
     "output_type": "execute_result"
    }
   ],
   "source": [
    "ArNews_df.isnull().values.any()"
   ]
  },
  {
   "cell_type": "code",
   "execution_count": 9,
   "metadata": {},
   "outputs": [
    {
     "data": {
      "text/plain": [
       "source               0\n",
       "url                  0\n",
       "date_extracted       0\n",
       "title               67\n",
       "author            4736\n",
       "content            354\n",
       "dtype: int64"
      ]
     },
     "execution_count": 9,
     "metadata": {},
     "output_type": "execute_result"
    }
   ],
   "source": [
    "ArNews_df = ArNews_df.replace(r'^\\s*$', np.nan, regex=True)\n",
    "\n",
    "# dealing with missing values: \n",
    "ArNews_df.isnull().sum()"
   ]
  },
  {
   "cell_type": "code",
   "execution_count": 10,
   "metadata": {},
   "outputs": [
    {
     "data": {
      "text/plain": [
       "<AxesSubplot:>"
      ]
     },
     "execution_count": 10,
     "metadata": {},
     "output_type": "execute_result"
    },
    {
     "data": {
      "image/png": "[encoded data removed]",
      "text/plain": [
       "<Figure size 1800x720 with 2 Axes>"
      ]
     },
     "metadata": {
      "needs_background": "light"
     },
     "output_type": "display_data"
    }
   ],
   "source": [
    "msno.matrix(ArNews_df)"
   ]
  },
  {
   "cell_type": "code",
   "execution_count": 11,
   "metadata": {},
   "outputs": [
    {
     "data": {
      "text/plain": [
       "False"
      ]
     },
     "execution_count": 11,
     "metadata": {},
     "output_type": "execute_result"
    }
   ],
   "source": [
    "ArNews_df = ArNews_df[ArNews_df.content.isnull() == False]\n",
    "ArNews_df = ArNews_df[ArNews_df.author.isnull() == False]\n",
    "ArNews_df = ArNews_df[ArNews_df.title.isnull() == False]\n",
    "#reset index \n",
    "ArNews_df = ArNews_df.reset_index(drop=True)\n",
    "\n",
    "ArNews_df.content.isnull().any() #false "
   ]
  },
  {
   "cell_type": "code",
   "execution_count": 12,
   "metadata": {},
   "outputs": [
    {
     "name": "stderr",
     "output_type": "stream",
     "text": [
      "/var/folders/1q/17wbd_xs3c358lsfdpvlg3lr0000gn/T/ipykernel_3228/3804166305.py:21: FutureWarning: The default value of regex will change from True to False in a future version.\n",
      "/var/folders/1q/17wbd_xs3c358lsfdpvlg3lr0000gn/T/ipykernel_3228/3804166305.py:24: FutureWarning: The default value of regex will change from True to False in a future version.\n"
     ]
    }
   ],
   "source": [
    "# Removing unwanted characters and stop words  \n",
    "#remove punctuation \n",
    "p = re.compile(r'[^\\w\\s]+')\n",
    "ArNews_df['content'] = [p.sub('', x) for x in ArNews_df['content'].tolist()]\n",
    "\n",
    "#remove \\n from the content \n",
    "ArNews_df['content'] = ArNews_df.content.str.replace(\"\\xa0\",\"\") \n",
    "ArNews_df['content'] = ArNews_df.content.str.replace(\"\\n\",\" \")\n",
    "ArNews_df['content'] = ArNews_df.content.str.replace(\"_ \",\"\")\n",
    "ArNews_df['content'] = ArNews_df.content.str.replace(\"- \",\"\")\n",
    "ArNews_df['content'] = ArNews_df.content.str.replace(\":\",\"\")\n",
    "ArNews_df['content'] = ArNews_df.content.str.replace(\"»\",\"\")\n",
    "ArNews_df['content'] = ArNews_df.content.str.replace(\"«\",\"\")\n",
    "\n",
    "#remove strings connected to symbols    \n",
    "ArNews_df['content'] = ArNews_df.content.str.replace(\"سبق\",\"\")\n",
    "ArNews_df['content'] = ArNews_df.content.str.replace(\"سبق-\",\"\")\n",
    "ArNews_df['content'] = ArNews_df.content.str.replace(\"- -\",\"\")\n",
    "\n",
    "#remove digits/numbers  \n",
    "ArNews_df['content'] = ArNews_df['content'].str.replace('\\d+', '')\n",
    "\n",
    "# remove parentheses () and data inside them \n",
    "ArNews_df[\"content\"] = ArNews_df[\"content\"].str.replace(r\" \\(.*\\)\",\"\")\n"
   ]
  },
  {
   "cell_type": "code",
   "execution_count": 13,
   "metadata": {},
   "outputs": [],
   "source": [
    "#fix the source/news paper names just because \n",
    "ArNews_df['source'] = ArNews_df.source.str.replace(\"aawsat\",\"Al Sharq Al Awsat\")\n",
    "ArNews_df['source'] = ArNews_df.source.str.replace(\"aleqtisadiya\",\"Al Eqtisadiya\")\n",
    "ArNews_df['source'] = ArNews_df.source.str.replace(\"aljazirah\",\"Al Jazirah\")\n",
    "ArNews_df['source'] = ArNews_df.source.str.replace(\"almadina\",\"Al Madina\")\n",
    "ArNews_df['source'] = ArNews_df.source.str.replace(\"alriyadh\",\"Al Riyadh\")\n",
    "ArNews_df['source'] = ArNews_df.source.str.replace(\"alwatan\",\"Al Watan\")\n",
    "ArNews_df['source'] = ArNews_df.source.str.replace(\"alweeam\",\"Al Weeam\")\n",
    "ArNews_df['source'] = ArNews_df.source.str.replace(\"alyaum\",\"Al Yaum\")\n",
    "ArNews_df['source'] = ArNews_df.source.str.replace(\"okaz\",\"Okaz\")\n",
    "ArNews_df['source'] = ArNews_df.source.str.replace(\"sabq\",\"Sabq\")\n",
    "ArNews_df['source'] = ArNews_df.source.str.replace(\"arreyadi\",\"Arreyadi\")\n",
    "ArNews_df['source'] = ArNews_df.source.str.replace(\"arriyadiyah\",\"Arriyadiyah\")\n",
    "\n",
    "#author column cleaning \n",
    "ArNews_df['author'] = [p.sub('', x) for x in ArNews_df['author'].tolist()]\n",
    "ArNews_df['author'] = ArNews_df.author.str.replace(\"سبق\",\"\")\n",
    "ArNews_df['author'] = ArNews_df.author.str.replace(\"واس\",\"\")\n",
    "ArNews_df['author'] = ArNews_df.author.str.replace(\"\\xa0\",\"\")"
   ]
  },
  {
   "cell_type": "code",
   "execution_count": 14,
   "metadata": {},
   "outputs": [],
   "source": [
    "ArNews_df['words_before_stop'] = ArNews_df[\"content\"].apply(nltk.word_tokenize)"
   ]
  },
  {
   "cell_type": "code",
   "execution_count": 15,
   "metadata": {},
   "outputs": [],
   "source": [
    "#remove stop words \n",
    "ArNews_df['words_after_stop']= ArNews_df['words_before_stop'].apply(lambda x: [item for item in x if item not in arabic_stopwords_list])"
   ]
  },
  {
   "cell_type": "code",
   "execution_count": 16,
   "metadata": {},
   "outputs": [],
   "source": [
    "#number of words before and after stop words removal \n",
    "ArNews_df['word_count_stop'] = ArNews_df['words_before_stop'].str.len() #before \n",
    "ArNews_df['word_count_wo_stop'] = ArNews_df['words_after_stop'].str.len() #after "
   ]
  },
  {
   "cell_type": "code",
   "execution_count": 17,
   "metadata": {},
   "outputs": [],
   "source": [
    "#stemming \n",
    "#ArNews_df['words_before_stop'] = ArNews_df['Words_before_stop'].apply(lambda x: [stemmer.stem(y) for y in x])\n",
    "ArNews_df['words_stem'] = ArNews_df['words_before_stop'].apply(lambda x: [stemmer.stem(y) for y in x])\n",
    "#ArNews_df.apply(lambda row: nltk.word_tokenize(row[\"verbatim\"]), axis=1)\n"
   ]
  },
  {
   "cell_type": "code",
   "execution_count": 18,
   "metadata": {},
   "outputs": [],
   "source": [
    "#Remove short articles \n",
    "ArNews_df = ArNews_df[ArNews_df.word_count_stop > 20]"
   ]
  },
  {
   "cell_type": "code",
   "execution_count": 19,
   "metadata": {},
   "outputs": [
    {
     "data": {
      "text/html": [
       "<div>\n",
       "<style scoped>\n",
       "    .dataframe tbody tr th:only-of-type {\n",
       "        vertical-align: middle;\n",
       "    }\n",
       "\n",
       "    .dataframe tbody tr th {\n",
       "        vertical-align: top;\n",
       "    }\n",
       "\n",
       "    .dataframe thead th {\n",
       "        text-align: right;\n",
       "    }\n",
       "</style>\n",
       "<table border=\"1\" class=\"dataframe\">\n",
       "  <thead>\n",
       "    <tr style=\"text-align: right;\">\n",
       "      <th></th>\n",
       "      <th>content</th>\n",
       "    </tr>\n",
       "    <tr>\n",
       "      <th>source</th>\n",
       "      <th></th>\n",
       "    </tr>\n",
       "  </thead>\n",
       "  <tbody>\n",
       "    <tr>\n",
       "      <th>Arriyadiyah</th>\n",
       "      <td>50</td>\n",
       "    </tr>\n",
       "    <tr>\n",
       "      <th>Arreyadi</th>\n",
       "      <td>82</td>\n",
       "    </tr>\n",
       "    <tr>\n",
       "      <th>Sabq</th>\n",
       "      <td>1386</td>\n",
       "    </tr>\n",
       "    <tr>\n",
       "      <th>Al Madina</th>\n",
       "      <td>1957</td>\n",
       "    </tr>\n",
       "    <tr>\n",
       "      <th>Al Weeam</th>\n",
       "      <td>2033</td>\n",
       "    </tr>\n",
       "    <tr>\n",
       "      <th>Al Watan</th>\n",
       "      <td>2107</td>\n",
       "    </tr>\n",
       "    <tr>\n",
       "      <th>Al Sharq Al Awsat</th>\n",
       "      <td>2602</td>\n",
       "    </tr>\n",
       "    <tr>\n",
       "      <th>Okaz</th>\n",
       "      <td>2703</td>\n",
       "    </tr>\n",
       "    <tr>\n",
       "      <th>Al Eqtisadiya</th>\n",
       "      <td>2733</td>\n",
       "    </tr>\n",
       "    <tr>\n",
       "      <th>Al Jazirah</th>\n",
       "      <td>2773</td>\n",
       "    </tr>\n",
       "    <tr>\n",
       "      <th>Al Yaum</th>\n",
       "      <td>3045</td>\n",
       "    </tr>\n",
       "    <tr>\n",
       "      <th>Al Riyadh</th>\n",
       "      <td>4398</td>\n",
       "    </tr>\n",
       "  </tbody>\n",
       "</table>\n",
       "</div>"
      ],
      "text/plain": [
       "                   content\n",
       "source                    \n",
       "Arriyadiyah             50\n",
       "Arreyadi                82\n",
       "Sabq                  1386\n",
       "Al Madina             1957\n",
       "Al Weeam              2033\n",
       "Al Watan              2107\n",
       "Al Sharq Al Awsat     2602\n",
       "Okaz                  2703\n",
       "Al Eqtisadiya         2733\n",
       "Al Jazirah            2773\n",
       "Al Yaum               3045\n",
       "Al Riyadh             4398"
      ]
     },
     "execution_count": 19,
     "metadata": {},
     "output_type": "execute_result"
    }
   ],
   "source": [
    "# News Source vs Content \n",
    "Source_Content = ArNews_df.groupby(['source'])[\"content\"].count().sort_values(ascending=True)\n",
    "pd.DataFrame(Source_Content)"
   ]
  },
  {
   "cell_type": "code",
   "execution_count": 20,
   "metadata": {},
   "outputs": [
    {
     "data": {
      "text/plain": [
       "Text(0.5, 1.0, 'Number of Articles Based on Their Source')"
      ]
     },
     "execution_count": 20,
     "metadata": {},
     "output_type": "execute_result"
    },
    {
     "data": {
      "image/png": "[encoded data removed]",
      "text/plain": [
       "<Figure size 432x288 with 1 Axes>"
      ]
     },
     "metadata": {
      "needs_background": "light"
     },
     "output_type": "display_data"
    }
   ],
   "source": [
    "# plot the \n",
    "sns.countplot(x=\"source\", \n",
    "              data=ArNews_df,\n",
    "              palette =sns.color_palette(\"hls\", 12)\n",
    "            )\n",
    "plt.xticks(rotation=45)\n",
    "plt.rcParams.update({'font.size': 10})\n",
    "plt.title(\"Number of Articles Based on Their Source\")"
   ]
  },
  {
   "cell_type": "markdown",
   "metadata": {},
   "source": [
    "Insight: \n",
    "Al Riyadh has the most articles in this data are. since, it is one of the leading news platform in KSA \n",
    "While the Arriyadi has the least number of aricles . \n",
    "\n",
    "Check what topics does it cover based keywords "
   ]
  },
  {
   "cell_type": "code",
   "execution_count": 21,
   "metadata": {},
   "outputs": [
    {
     "data": {
      "text/plain": [
       "Text(0.5, 1.0, 'Words count distribution before and after stop words removal')"
      ]
     },
     "execution_count": 21,
     "metadata": {},
     "output_type": "execute_result"
    },
    {
     "data": {
      "image/png": "[encoded data removed]",
      "text/plain": [
       "<Figure size 432x288 with 1 Axes>"
      ]
     },
     "metadata": {
      "needs_background": "light"
     },
     "output_type": "display_data"
    }
   ],
   "source": [
    "plt.plot(ArNews_df.word_count_stop, color='#2D80B2')\n",
    "plt.plot(ArNews_df.word_count_wo_stop, color='#A6D59E')\n",
    "plt.title(\"Words count distribution before and after stop words removal\")"
   ]
  },
  {
   "cell_type": "markdown",
   "metadata": {},
   "source": [
    "Insight: \n",
    "most articles had drop in words count except for 4 articles when are already small in size  "
   ]
  },
  {
   "cell_type": "code",
   "execution_count": null,
   "metadata": {},
   "outputs": [],
   "source": [
    "#detokenize \n",
    "ArNews_df['Detokenize'] = ArNews_df[\"words_after_stop\"].apply(detokenizer.detokenize)\n",
    "\n",
    "#find the most frequent words \n",
    "Top_words = Counter(\" \".join(ArNews_df[\"Detokenize\"]).split()).most_common(50)\n",
    "words = [t for t,n in Top_words]\n",
    "frequency = [n for t,n in Top_words]\n",
    "Top_words_df = pd.DataFrame({'words': words,'frequency': frequency})\n",
    "\n",
    "#plot of the top 50 words \n",
    "sns.barplot(x=\"frequency\", y=\"words\", data=Top_words_df)\n",
    "sns.set(rc = {'figure.figsize':(20,8)})\n",
    "plt.title(\"Top 100 Frequent Words\")"
   ]
  },
  {
   "cell_type": "markdown",
   "metadata": {},
   "source": [
    "Insight: \n",
    "the word \"الله\" / \"Allah\" is the most frequent word used in the articles . "
   ]
  },
  {
   "cell_type": "code",
   "execution_count": null,
   "metadata": {},
   "outputs": [],
   "source": [
    "#Sentiment Analysis \n",
    "sentiment = SentimentAnalyzer.pretrained()\n",
    "\n",
    "def Sentiment_analysis(text):\n",
    "  try:\n",
    "    return TextBlob(text).sentiment\n",
    "  except:\n",
    "    return None\n",
    "\n",
    "a = ArNews_df[\"content\"].apply(Sentiment_analysis)"
   ]
  }
 ],
 "metadata": {
  "interpreter": {
   "hash": "aee8b7b246df8f9039afb4144a1f6fd8d2ca17a180786b69acc140d282b71a49"
  },
  "kernelspec": {
   "display_name": "Python 3.9.7 64-bit",
   "language": "python",
   "name": "python3"
  },
  "language_info": {
   "codemirror_mode": {
    "name": "ipython",
    "version": 3
   },
   "file_extension": ".py",
   "mimetype": "text/x-python",
   "name": "python",
   "nbconvert_exporter": "python",
   "pygments_lexer": "ipython3",
   "version": "3.9.7"
  },
  "orig_nbformat": 4
 },
 "nbformat": 4,
 "nbformat_minor": 2
}
