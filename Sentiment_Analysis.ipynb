{
 "cells": [
  {
   "cell_type": "code",
   "execution_count": 4,
   "metadata": {},
   "outputs": [],
   "source": [
    "import pandas as pd\n",
    "from camel_tools.sentiment import SentimentAnalyzer\n",
    "import seaborn as sns\n",
    "import matplotlib as plt\n",
    "import matplotlib.pyplot as plt\n"
   ]
  },
  {
   "cell_type": "code",
   "execution_count": 5,
   "metadata": {},
   "outputs": [],
   "source": [
    "#load Prep and clean data \n",
    "ArNews_df_update = pd.read_csv(\"/Users/AlaAlBinSaleh/Desktop/Desktop/Capstone/ArNews_df_Cleaned.csv\", index_col=[0])"
   ]
  },
  {
   "cell_type": "code",
   "execution_count": 6,
   "metadata": {},
   "outputs": [],
   "source": [
    "sentiment = SentimentAnalyzer.pretrained()"
   ]
  },
  {
   "cell_type": "code",
   "execution_count": 7,
   "metadata": {},
   "outputs": [],
   "source": [
    "def Sentiment_Analysis(text):\n",
    "  try:\n",
    "    return sentiment.predict(text)\n",
    "  except:\n",
    "    return None"
   ]
  },
  {
   "cell_type": "code",
   "execution_count": 6,
   "metadata": {},
   "outputs": [],
   "source": [
    "ArNews_df_update[\"sentiment\"] = ArNews_df_update['content'].apply(Sentiment_Analysis)"
   ]
  },
  {
   "cell_type": "markdown",
   "metadata": {},
   "source": [
    "applying this Sentiment Analyzer is computational intensive. Therefore,I took a sample of the dataset to get the sentiment analysis "
   ]
  },
  {
   "cell_type": "code",
   "execution_count": 8,
   "metadata": {},
   "outputs": [],
   "source": [
    "partial_df = ArNews_df_update[:1000]"
   ]
  },
  {
   "cell_type": "markdown",
   "metadata": {},
   "source": [
    "###sentiment analysis on uncleaned content "
   ]
  },
  {
   "cell_type": "code",
   "execution_count": 8,
   "metadata": {},
   "outputs": [
    {
     "name": "stderr",
     "output_type": "stream",
     "text": [
      "/var/folders/1q/17wbd_xs3c358lsfdpvlg3lr0000gn/T/ipykernel_87840/3380726870.py:1: SettingWithCopyWarning: \n",
      "A value is trying to be set on a copy of a slice from a DataFrame.\n",
      "Try using .loc[row_indexer,col_indexer] = value instead\n",
      "\n",
      "See the caveats in the documentation: https://pandas.pydata.org/pandas-docs/stable/user_guide/indexing.html#returning-a-view-versus-a-copy\n",
      "  partial_df[\"sentiment\"] = partial_df['content'].apply(Sentiment_Analysis)\n"
     ]
    }
   ],
   "source": [
    "partial_df[\"sentiment\"] = partial_df['content'].apply(Sentiment_Analysis)"
   ]
  },
  {
   "cell_type": "code",
   "execution_count": 26,
   "metadata": {},
   "outputs": [
    {
     "data": {
      "text/plain": [
       "'neutral'"
      ]
     },
     "execution_count": 26,
     "metadata": {},
     "output_type": "execute_result"
    }
   ],
   "source": [
    "partial_df['sentiment'].iloc[997]"
   ]
  },
  {
   "cell_type": "code",
   "execution_count": 25,
   "metadata": {},
   "outputs": [
    {
     "name": "stderr",
     "output_type": "stream",
     "text": [
      "/var/folders/1q/17wbd_xs3c358lsfdpvlg3lr0000gn/T/ipykernel_87840/4072026381.py:1: FutureWarning: The default value of regex will change from True to False in a future version. In addition, single character regular expressions will *not* be treated as literal strings when regex=True.\n",
      "  partial_df['sentiment'] = partial_df.sentiment.str.replace(\"[\",\"\")\n",
      "/var/folders/1q/17wbd_xs3c358lsfdpvlg3lr0000gn/T/ipykernel_87840/4072026381.py:2: FutureWarning: The default value of regex will change from True to False in a future version. In addition, single character regular expressions will *not* be treated as literal strings when regex=True.\n",
      "  partial_df['sentiment'] = partial_df.sentiment.str.replace(\"]\",\"\")\n"
     ]
    }
   ],
   "source": [
    "\n",
    "#convert into sentiment results into a string for plot\n",
    "partial_df['sentiment'] = partial_df.sentiment.str.replace(\"[\",\"\")\n",
    "partial_df['sentiment'] = partial_df.sentiment.str.replace(\"]\",\"\")\n",
    "partial_df['sentiment'] = partial_df.sentiment.str.replace(\"'\",\"\")"
   ]
  },
  {
   "cell_type": "markdown",
   "metadata": {},
   "source": [
    "###plot the sentiment result "
   ]
  },
  {
   "cell_type": "code",
   "execution_count": 30,
   "metadata": {},
   "outputs": [
    {
     "data": {
      "text/plain": [
       "Text(0, 0.5, 'count')"
      ]
     },
     "execution_count": 30,
     "metadata": {},
     "output_type": "execute_result"
    },
    {
     "data": {
      "image/png": "[encoded data removed]",
      "text/plain": [
       "<Figure size 1080x576 with 1 Axes>"
      ]
     },
     "metadata": {},
     "output_type": "display_data"
    }
   ],
   "source": [
    "sns.countplot(x = \"sentiment\", \n",
    "               data = partial_df,\n",
    "                palette=sns.color_palette(\"viridis\", 3)\n",
    "            )\n",
    "sns.set(rc = {'figure.figsize':(15,8)})\n",
    "plt.title('Sentiment for the first 1000 articles', fontsize=20)\n",
    "plt.xlabel('Sentiment', fontsize=16)\n",
    "plt.ylabel('count', fontsize=16)"
   ]
  },
  {
   "cell_type": "markdown",
   "metadata": {},
   "source": [
    "###sentiment analysis on cleaned content "
   ]
  },
  {
   "cell_type": "code",
   "execution_count": 18,
   "metadata": {},
   "outputs": [
    {
     "name": "stderr",
     "output_type": "stream",
     "text": [
      "/var/folders/1q/17wbd_xs3c358lsfdpvlg3lr0000gn/T/ipykernel_87843/2885715113.py:1: SettingWithCopyWarning: \n",
      "A value is trying to be set on a copy of a slice from a DataFrame.\n",
      "Try using .loc[row_indexer,col_indexer] = value instead\n",
      "\n",
      "See the caveats in the documentation: https://pandas.pydata.org/pandas-docs/stable/user_guide/indexing.html#returning-a-view-versus-a-copy\n",
      "  partial_df[\"sentiment_Detokenize\"] = partial_df['Detokenize'].apply(Sentiment_Analysis)\n"
     ]
    }
   ],
   "source": [
    "partial_df[\"sentiment_Detokenize\"] = partial_df['Detokenize'].apply(Sentiment_Analysis)"
   ]
  },
  {
   "cell_type": "code",
   "execution_count": 63,
   "metadata": {},
   "outputs": [
    {
     "name": "stderr",
     "output_type": "stream",
     "text": [
      "/var/folders/1q/17wbd_xs3c358lsfdpvlg3lr0000gn/T/ipykernel_87843/847205471.py:1: FutureWarning: The default value of regex will change from True to False in a future version. In addition, single character regular expressions will *not* be treated as literal strings when regex=True.\n",
      "  partial_df['sentiment_2']= partial_df['sentiment_Detokenize'].astype(str).str.replace(\"]\", \"\")\n",
      "/var/folders/1q/17wbd_xs3c358lsfdpvlg3lr0000gn/T/ipykernel_87843/847205471.py:1: SettingWithCopyWarning: \n",
      "A value is trying to be set on a copy of a slice from a DataFrame.\n",
      "Try using .loc[row_indexer,col_indexer] = value instead\n",
      "\n",
      "See the caveats in the documentation: https://pandas.pydata.org/pandas-docs/stable/user_guide/indexing.html#returning-a-view-versus-a-copy\n",
      "  partial_df['sentiment_2']= partial_df['sentiment_Detokenize'].astype(str).str.replace(\"]\", \"\")\n",
      "/var/folders/1q/17wbd_xs3c358lsfdpvlg3lr0000gn/T/ipykernel_87843/847205471.py:2: FutureWarning: The default value of regex will change from True to False in a future version. In addition, single character regular expressions will *not* be treated as literal strings when regex=True.\n",
      "  partial_df['sentiment_2']= partial_df['sentiment_2'].astype(str).str.replace(\"[\", \"\")\n",
      "/var/folders/1q/17wbd_xs3c358lsfdpvlg3lr0000gn/T/ipykernel_87843/847205471.py:2: SettingWithCopyWarning: \n",
      "A value is trying to be set on a copy of a slice from a DataFrame.\n",
      "Try using .loc[row_indexer,col_indexer] = value instead\n",
      "\n",
      "See the caveats in the documentation: https://pandas.pydata.org/pandas-docs/stable/user_guide/indexing.html#returning-a-view-versus-a-copy\n",
      "  partial_df['sentiment_2']= partial_df['sentiment_2'].astype(str).str.replace(\"[\", \"\")\n"
     ]
    }
   ],
   "source": [
    "partial_df['sentiment_2']= partial_df['sentiment_Detokenize'].astype(str).str.replace(\"]\", \"\")\n",
    "partial_df['sentiment_2']= partial_df['sentiment_2'].astype(str).str.replace(\"[\", \"\")\n"
   ]
  },
  {
   "cell_type": "markdown",
   "metadata": {},
   "source": [
    "#plot the sentiment result "
   ]
  },
  {
   "cell_type": "code",
   "execution_count": 66,
   "metadata": {},
   "outputs": [
    {
     "data": {
      "text/plain": [
       "Text(0, 0.5, 'count')"
      ]
     },
     "execution_count": 66,
     "metadata": {},
     "output_type": "execute_result"
    },
    {
     "data": {
      "image/png": "[encoded data removed]",
      "text/plain": [
       "<Figure size 1080x576 with 1 Axes>"
      ]
     },
     "metadata": {},
     "output_type": "display_data"
    }
   ],
   "source": [
    "sns.countplot(x = \"sentiment_2\", \n",
    "               data = partial_df.sort_values(\"sentiment_2\"),\n",
    "                palette=sns.color_palette(\"viridis\", 3), \n",
    "            )\n",
    "sns.set(rc = {'figure.figsize':(15,8)})\n",
    "plt.title('Sentiment for the first 1000 articles', fontsize=20)\n",
    "plt.xlabel('Sentiment', fontsize=16)\n",
    "plt.ylabel('count', fontsize=16)"
   ]
  }
 ],
 "metadata": {
  "interpreter": {
   "hash": "aee8b7b246df8f9039afb4144a1f6fd8d2ca17a180786b69acc140d282b71a49"
  },
  "kernelspec": {
   "display_name": "Python 3.9.7 64-bit",
   "language": "python",
   "name": "python3"
  },
  "language_info": {
   "codemirror_mode": {
    "name": "ipython",
    "version": 3
   },
   "file_extension": ".py",
   "mimetype": "text/x-python",
   "name": "python",
   "nbconvert_exporter": "python",
   "pygments_lexer": "ipython3",
   "version": "3.9.7"
  },
  "orig_nbformat": 4
 },
 "nbformat": 4,
 "nbformat_minor": 2
}
